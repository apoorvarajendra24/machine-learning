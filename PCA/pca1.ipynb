{
 "cells": [
  {
   "cell_type": "code",
   "execution_count": 1,
   "id": "eeaf46ab",
   "metadata": {},
   "outputs": [],
   "source": [
    "import numpy as np\n",
    "import pandas as pd\n",
    "from sklearn.preprocessing import StandardScaler\n",
    "from sklearn.decomposition import PCA\n",
    "import matplotlib.pyplot as plt \n",
    "import seaborn as sns "
   ]
  },
  {
   "cell_type": "code",
   "execution_count": 2,
   "id": "40d68c42",
   "metadata": {},
   "outputs": [
    {
     "data": {
      "text/html": [
       "<div>\n",
       "<style scoped>\n",
       "    .dataframe tbody tr th:only-of-type {\n",
       "        vertical-align: middle;\n",
       "    }\n",
       "\n",
       "    .dataframe tbody tr th {\n",
       "        vertical-align: top;\n",
       "    }\n",
       "\n",
       "    .dataframe thead th {\n",
       "        text-align: right;\n",
       "    }\n",
       "</style>\n",
       "<table border=\"1\" class=\"dataframe\">\n",
       "  <thead>\n",
       "    <tr style=\"text-align: right;\">\n",
       "      <th></th>\n",
       "      <th>water</th>\n",
       "      <th>protein</th>\n",
       "      <th>fat</th>\n",
       "      <th>lactose</th>\n",
       "      <th>ash</th>\n",
       "    </tr>\n",
       "    <tr>\n",
       "      <th>Animal</th>\n",
       "      <th></th>\n",
       "      <th></th>\n",
       "      <th></th>\n",
       "      <th></th>\n",
       "      <th></th>\n",
       "    </tr>\n",
       "  </thead>\n",
       "  <tbody>\n",
       "    <tr>\n",
       "      <th>HORSE</th>\n",
       "      <td>90.1</td>\n",
       "      <td>2.6</td>\n",
       "      <td>1.0</td>\n",
       "      <td>6.9</td>\n",
       "      <td>0.35</td>\n",
       "    </tr>\n",
       "    <tr>\n",
       "      <th>ORANGUTAN</th>\n",
       "      <td>88.5</td>\n",
       "      <td>1.4</td>\n",
       "      <td>3.5</td>\n",
       "      <td>6.0</td>\n",
       "      <td>0.24</td>\n",
       "    </tr>\n",
       "    <tr>\n",
       "      <th>MONKEY</th>\n",
       "      <td>88.4</td>\n",
       "      <td>2.2</td>\n",
       "      <td>2.7</td>\n",
       "      <td>6.4</td>\n",
       "      <td>0.18</td>\n",
       "    </tr>\n",
       "    <tr>\n",
       "      <th>DONKEY</th>\n",
       "      <td>90.3</td>\n",
       "      <td>1.7</td>\n",
       "      <td>1.4</td>\n",
       "      <td>6.2</td>\n",
       "      <td>0.40</td>\n",
       "    </tr>\n",
       "    <tr>\n",
       "      <th>HIPPO</th>\n",
       "      <td>90.4</td>\n",
       "      <td>0.6</td>\n",
       "      <td>4.5</td>\n",
       "      <td>4.4</td>\n",
       "      <td>0.10</td>\n",
       "    </tr>\n",
       "  </tbody>\n",
       "</table>\n",
       "</div>"
      ],
      "text/plain": [
       "           water  protein  fat  lactose   ash\n",
       "Animal                                       \n",
       "HORSE       90.1      2.6  1.0      6.9  0.35\n",
       "ORANGUTAN   88.5      1.4  3.5      6.0  0.24\n",
       "MONKEY      88.4      2.2  2.7      6.4  0.18\n",
       "DONKEY      90.3      1.7  1.4      6.2  0.40\n",
       "HIPPO       90.4      0.6  4.5      4.4  0.10"
      ]
     },
     "execution_count": 2,
     "metadata": {},
     "output_type": "execute_result"
    }
   ],
   "source": [
    "milk = pd.read_csv(\"milk.csv\",index_col=0)\n",
    "milk.head()"
   ]
  },
  {
   "cell_type": "code",
   "execution_count": 3,
   "id": "78702038",
   "metadata": {},
   "outputs": [],
   "source": [
    "scaler = StandardScaler().set_output(transform='pandas')\n",
    "scaler.fit(milk)\n",
    "milkscaled=scaler.transform(milk)"
   ]
  },
  {
   "cell_type": "code",
   "execution_count": 4,
   "id": "063e1ef7",
   "metadata": {},
   "outputs": [
    {
     "data": {
      "text/html": [
       "<div>\n",
       "<style scoped>\n",
       "    .dataframe tbody tr th:only-of-type {\n",
       "        vertical-align: middle;\n",
       "    }\n",
       "\n",
       "    .dataframe tbody tr th {\n",
       "        vertical-align: top;\n",
       "    }\n",
       "\n",
       "    .dataframe thead th {\n",
       "        text-align: right;\n",
       "    }\n",
       "</style>\n",
       "<table border=\"1\" class=\"dataframe\">\n",
       "  <thead>\n",
       "    <tr style=\"text-align: right;\">\n",
       "      <th></th>\n",
       "      <th>pca0</th>\n",
       "      <th>pca1</th>\n",
       "      <th>pca2</th>\n",
       "      <th>pca3</th>\n",
       "      <th>pca4</th>\n",
       "    </tr>\n",
       "  </thead>\n",
       "  <tbody>\n",
       "    <tr>\n",
       "      <th>pca0</th>\n",
       "      <td>1.000000e+00</td>\n",
       "      <td>1.148957e-16</td>\n",
       "      <td>4.710035e-17</td>\n",
       "      <td>-4.308998e-17</td>\n",
       "      <td>0.000000e+00</td>\n",
       "    </tr>\n",
       "    <tr>\n",
       "      <th>pca1</th>\n",
       "      <td>1.148957e-16</td>\n",
       "      <td>1.000000e+00</td>\n",
       "      <td>1.247314e-16</td>\n",
       "      <td>9.008773e-17</td>\n",
       "      <td>1.187218e-16</td>\n",
       "    </tr>\n",
       "    <tr>\n",
       "      <th>pca2</th>\n",
       "      <td>4.710035e-17</td>\n",
       "      <td>1.247314e-16</td>\n",
       "      <td>1.000000e+00</td>\n",
       "      <td>-7.878519e-17</td>\n",
       "      <td>-6.813631e-17</td>\n",
       "    </tr>\n",
       "    <tr>\n",
       "      <th>pca3</th>\n",
       "      <td>-4.308998e-17</td>\n",
       "      <td>9.008773e-17</td>\n",
       "      <td>-7.878519e-17</td>\n",
       "      <td>1.000000e+00</td>\n",
       "      <td>2.448868e-16</td>\n",
       "    </tr>\n",
       "    <tr>\n",
       "      <th>pca4</th>\n",
       "      <td>0.000000e+00</td>\n",
       "      <td>1.187218e-16</td>\n",
       "      <td>-6.813631e-17</td>\n",
       "      <td>2.448868e-16</td>\n",
       "      <td>1.000000e+00</td>\n",
       "    </tr>\n",
       "  </tbody>\n",
       "</table>\n",
       "</div>"
      ],
      "text/plain": [
       "              pca0          pca1          pca2          pca3          pca4\n",
       "pca0  1.000000e+00  1.148957e-16  4.710035e-17 -4.308998e-17  0.000000e+00\n",
       "pca1  1.148957e-16  1.000000e+00  1.247314e-16  9.008773e-17  1.187218e-16\n",
       "pca2  4.710035e-17  1.247314e-16  1.000000e+00 -7.878519e-17 -6.813631e-17\n",
       "pca3 -4.308998e-17  9.008773e-17 -7.878519e-17  1.000000e+00  2.448868e-16\n",
       "pca4  0.000000e+00  1.187218e-16 -6.813631e-17  2.448868e-16  1.000000e+00"
      ]
     },
     "execution_count": 4,
     "metadata": {},
     "output_type": "execute_result"
    }
   ],
   "source": [
    "pca = PCA().set_output(transform='pandas')\n",
    "principalComponents = pca.fit_transform(milkscaled)\n",
    "### PCA columns are orthogonal to each other\n",
    "principalComponents.corr()"
   ]
  },
  {
   "cell_type": "code",
   "execution_count": 5,
   "id": "638f6bc7",
   "metadata": {},
   "outputs": [
    {
     "name": "stdout",
     "output_type": "stream",
     "text": [
      "pca0    4.040412\n",
      "pca1    0.924372\n",
      "pca2    0.134291\n",
      "pca3    0.102689\n",
      "pca4    0.006570\n",
      "dtype: float64\n"
     ]
    }
   ],
   "source": [
    "print(principalComponents.var())\n",
    "## Variances of PC columns are eigen values of \n",
    "## var-cov matrix\n",
    "values, vectors = np.linalg.eig(milkscaled.cov())"
   ]
  },
  {
   "cell_type": "code",
   "execution_count": 6,
   "id": "ca667ff1",
   "metadata": {},
   "outputs": [
    {
     "name": "stdout",
     "output_type": "stream",
     "text": [
      "[4.0404117  0.92437238 0.13429088 0.1026886  0.00656977]\n",
      "[0.77575905 0.1774795  0.02578385 0.01971621 0.0012614 ]\n",
      "[0.77575905 0.1774795  0.02578385 0.01971621 0.0012614 ]\n",
      "[77.57590469 17.74794969  2.57838496  1.97162103  0.12613963]\n"
     ]
    }
   ],
   "source": [
    "print(pca.explained_variance_)\n",
    "tot_var = np.sum(pca.explained_variance_)\n",
    "print(pca.explained_variance_/tot_var)\n",
    "# or\n",
    "print(pca.explained_variance_ratio_) \n",
    "print(pca.explained_variance_ratio_ * 100) "
   ]
  },
  {
   "cell_type": "code",
   "execution_count": 7,
   "id": "61496c67",
   "metadata": {},
   "outputs": [
    {
     "name": "stdout",
     "output_type": "stream",
     "text": [
      "[ 77.57590469  95.32385438  97.90223934  99.87386037 100.        ]\n"
     ]
    }
   ],
   "source": [
    "print(np.cumsum(pca.explained_variance_ratio_ * 100)) "
   ]
  },
  {
   "cell_type": "code",
   "execution_count": 8,
   "id": "915c3e23",
   "metadata": {},
   "outputs": [
    {
     "data": {
      "image/png": "[encoded data removed]",
      "text/plain": [
       "<Figure size 640x480 with 1 Axes>"
      ]
     },
     "metadata": {},
     "output_type": "display_data"
    }
   ],
   "source": [
    "ys = np.cumsum(pca.explained_variance_ratio_ * 100)\n",
    "xs = np.arange(1,6)\n",
    "plt.plot(xs,ys)\n",
    "plt.show()"
   ]
  }
 ],
 "metadata": {
  "kernelspec": {
   "display_name": ".venv",
   "language": "python",
   "name": "python3"
  },
  "language_info": {
   "codemirror_mode": {
    "name": "ipython",
    "version": 3
   },
   "file_extension": ".py",
   "mimetype": "text/x-python",
   "name": "python",
   "nbconvert_exporter": "python",
   "pygments_lexer": "ipython3",
   "version": "3.13.3"
  }
 },
 "nbformat": 4,
 "nbformat_minor": 5
}
