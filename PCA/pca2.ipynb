{
 "cells": [
  {
   "cell_type": "code",
   "execution_count": 1,
   "id": "e47bcfc0",
   "metadata": {},
   "outputs": [],
   "source": [
    "import pandas as pd\n",
    "from sklearn.model_selection import train_test_split \n",
    "from sklearn.linear_model import LogisticRegression \n",
    "from sklearn.metrics import log_loss, accuracy_score\n",
    "from sklearn.model_selection import StratifiedKFold\n",
    "from sklearn.preprocessing import LabelEncoder\n",
    "from sklearn.decomposition import PCA\n",
    "from sklearn.preprocessing import StandardScaler\n",
    "from sklearn.model_selection import GridSearchCV\n",
    "from sklearn.naive_bayes import GaussianNB\n",
    "from sklearn.pipeline import Pipeline \n",
    "from sklearn.ensemble import RandomForestClassifier\n",
    "import numpy as np "
   ]
  },
  {
   "cell_type": "code",
   "execution_count": 2,
   "id": "f50c9f34",
   "metadata": {},
   "outputs": [],
   "source": [
    "brupt = pd.read_csv(\"Bankruptcy.csv\")\n",
    "X = brupt.drop(['NO','D'], axis=1)\n",
    "y = brupt['D']\n",
    "lr = LogisticRegression()\n",
    "X_train, X_test, y_train, y_test = train_test_split(X, y, \n",
    "                                   test_size = 0.3, \n",
    "                                   random_state=24,\n",
    "                                   stratify=y)"
   ]
  },
  {
   "cell_type": "code",
   "execution_count": 3,
   "id": "fd917786",
   "metadata": {},
   "outputs": [],
   "source": [
    "scaler = StandardScaler().set_output(transform='pandas')\n",
    "pca = PCA(n_components=11).set_output(transform='pandas')"
   ]
  },
  {
   "cell_type": "code",
   "execution_count": 5,
   "id": "6a155c44",
   "metadata": {},
   "outputs": [
    {
     "name": "stdout",
     "output_type": "stream",
     "text": [
      "[36.89727764 49.26805297 60.18881995 68.68873469 75.68772544 80.484899\n",
      " 84.66449768 88.67298039 91.81964019 94.50927463 96.43097012]\n"
     ]
    }
   ],
   "source": [
    "pipe = Pipeline([('SCL',scaler),('PCA',pca),('LR',lr)])\n",
    "pipe.fit(X_train, y_train)\n",
    "print(np.cumsum(pca.explained_variance_ratio_ * 100)) "
   ]
  },
  {
   "cell_type": "code",
   "execution_count": 6,
   "id": "5f59e439",
   "metadata": {},
   "outputs": [
    {
     "name": "stdout",
     "output_type": "stream",
     "text": [
      "0.75\n",
      "0.8442593798231378\n"
     ]
    }
   ],
   "source": [
    "y_pred = pipe.predict(X_test)\n",
    "y_pred_prob = pipe.predict_proba(X_test)\n",
    "print(accuracy_score(y_test, y_pred))\n",
    "print(log_loss(y_test, y_pred_prob))"
   ]
  },
  {
   "cell_type": "code",
   "execution_count": 7,
   "id": "afa7b3b6",
   "metadata": {},
   "outputs": [
    {
     "name": "stdout",
     "output_type": "stream",
     "text": [
      "{'memory': None, 'steps': [('SCL', StandardScaler()), ('PCA', PCA(n_components=11)), ('LR', LogisticRegression())], 'transform_input': None, 'verbose': False, 'SCL': StandardScaler(), 'PCA': PCA(n_components=11), 'LR': LogisticRegression(), 'SCL__copy': True, 'SCL__with_mean': True, 'SCL__with_std': True, 'PCA__copy': True, 'PCA__iterated_power': 'auto', 'PCA__n_components': 11, 'PCA__n_oversamples': 10, 'PCA__power_iteration_normalizer': 'auto', 'PCA__random_state': None, 'PCA__svd_solver': 'auto', 'PCA__tol': 0.0, 'PCA__whiten': False, 'LR__C': 1.0, 'LR__class_weight': None, 'LR__dual': False, 'LR__fit_intercept': True, 'LR__intercept_scaling': 1, 'LR__l1_ratio': None, 'LR__max_iter': 100, 'LR__multi_class': 'deprecated', 'LR__n_jobs': None, 'LR__penalty': 'l2', 'LR__random_state': None, 'LR__solver': 'lbfgs', 'LR__tol': 0.0001, 'LR__verbose': 0, 'LR__warm_start': False}\n",
      "{'LR__C': np.float64(0.75075), 'PCA__n_components': np.int64(10)}\n",
      "-0.478659773514722\n"
     ]
    }
   ],
   "source": [
    "print(pipe.get_params())\n",
    "params = {'PCA__n_components': np.arange(6,12),\n",
    "          'LR__C': np.linspace(0.001, 3, 5)}\n",
    "kfold = StratifiedKFold(n_splits=5, shuffle=True, \n",
    "                        random_state=24)\n",
    "gcv = GridSearchCV(pipe, param_grid=params, cv=kfold ,\n",
    "                   scoring='neg_log_loss')\n",
    "gcv.fit(X, y)\n",
    "print(gcv.best_params_)\n",
    "print(gcv.best_score_)"
   ]
  },
  {
   "cell_type": "code",
   "execution_count": 9,
   "id": "05550eba",
   "metadata": {},
   "outputs": [
    {
     "name": "stdout",
     "output_type": "stream",
     "text": [
      "{'PCA__n_components': 6}\n",
      "-1.261673131953675\n"
     ]
    }
   ],
   "source": [
    "nb = GaussianNB()\n",
    "pipe = Pipeline([('SCL',scaler),('PCA',pca),('NB',nb)])\n",
    "params = {'PCA__n_components': [5,6,7,8,9]}\n",
    "kfold = StratifiedKFold(n_splits=5, shuffle=True, \n",
    "                        random_state=24)\n",
    "gcv = GridSearchCV(pipe, param_grid=params, cv=kfold ,\n",
    "                   scoring='neg_log_loss')\n",
    "gcv.fit(X, y)\n",
    "print(gcv.best_params_)\n",
    "print(gcv.best_score_)"
   ]
  },
  {
   "cell_type": "code",
   "execution_count": 10,
   "id": "3d2e6065",
   "metadata": {},
   "outputs": [
    {
     "name": "stdout",
     "output_type": "stream",
     "text": [
      "{'PCA__n_components': 7}\n",
      "-0.48505233458041663\n"
     ]
    }
   ],
   "source": [
    "rf = RandomForestClassifier(random_state=24)\n",
    "pipe = Pipeline([('SCL',scaler),('PCA',pca),('RF',rf)])\n",
    "params = {'PCA__n_components': [5,6,7,8,9]}\n",
    "kfold = StratifiedKFold(n_splits=5, shuffle=True, \n",
    "                        random_state=24)\n",
    "gcv = GridSearchCV(pipe, param_grid=params, cv=kfold ,\n",
    "                   scoring='neg_log_loss')\n",
    "gcv.fit(X, y)\n",
    "print(gcv.best_params_)\n",
    "print(gcv.best_score_)"
   ]
  }
 ],
 "metadata": {
  "kernelspec": {
   "display_name": ".venv",
   "language": "python",
   "name": "python3"
  },
  "language_info": {
   "codemirror_mode": {
    "name": "ipython",
    "version": 3
   },
   "file_extension": ".py",
   "mimetype": "text/x-python",
   "name": "python",
   "nbconvert_exporter": "python",
   "pygments_lexer": "ipython3",
   "version": "3.13.3"
  }
 },
 "nbformat": 4,
 "nbformat_minor": 5
}
